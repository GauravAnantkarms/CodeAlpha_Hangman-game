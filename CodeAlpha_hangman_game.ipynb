{
  "nbformat": 4,
  "nbformat_minor": 0,
  "metadata": {
    "colab": {
      "provenance": []
    },
    "kernelspec": {
      "name": "python3",
      "display_name": "Python 3"
    },
    "language_info": {
      "name": "python"
    }
  },
  "cells": [
    {
      "cell_type": "code",
      "execution_count": null,
      "metadata": {
        "colab": {
          "base_uri": "https://localhost:8080/"
        },
        "id": "Nnv6497qeChF",
        "outputId": "cf3ed03c-be35-416d-85cb-a0ef8ca35900"
      },
      "outputs": [
        {
          "output_type": "stream",
          "name": "stdout",
          "text": [
            "Welcome to Hangman!\n",
            "Current word: _________\n",
            "Incorrect guesses: \n",
            "Remaining attempts: 6\n",
            "Guess a letter: a\n",
            "Good job! 'a' is in the word.\n",
            "Current word: __a______\n",
            "Incorrect guesses: \n",
            "Remaining attempts: 6\n",
            "Guess a letter: b\n",
            "Sorry! 'b' is not in the word.\n",
            "Current word: __a______\n",
            "Incorrect guesses: b\n",
            "Remaining attempts: 5\n",
            "Guess a letter: c\n",
            "Good job! 'c' is in the word.\n",
            "Current word: c_a______\n",
            "Incorrect guesses: b\n",
            "Remaining attempts: 5\n",
            "Guess a letter: d\n",
            "Sorry! 'd' is not in the word.\n",
            "Current word: c_a______\n",
            "Incorrect guesses: d, b\n",
            "Remaining attempts: 4\n"
          ]
        }
      ],
      "source": [
        "import random\n",
        "\n",
        "def select_random_word():\n",
        "    words = ['python', 'hangman', 'programming', 'challenge', 'game', 'computer']\n",
        "    return random.choice(words)\n",
        "\n",
        "def display_current_state(word, correct_guesses):\n",
        "    display_word = ''.join([letter if letter in correct_guesses else '_' for letter in word])\n",
        "    print(f\"Current word: {display_word}\")\n",
        "\n",
        "def hangman():\n",
        "    word = select_random_word()\n",
        "    correct_guesses = set()\n",
        "    wrong_guesses = set()\n",
        "    max_wrong_guesses = 6\n",
        "\n",
        "    print(\"Welcome to Hangman!\")\n",
        "\n",
        "    while len(wrong_guesses) < max_wrong_guesses:\n",
        "        display_current_state(word, correct_guesses)\n",
        "        print(f\"Incorrect guesses: {', '.join(wrong_guesses)}\")\n",
        "        print(f\"Remaining attempts: {max_wrong_guesses - len(wrong_guesses)}\")\n",
        "\n",
        "        guess = input(\"Guess a letter: \").lower()\n",
        "\n",
        "        if len(guess) != 1 or not guess.isalpha():\n",
        "            print(\"Please enter a valid single letter.\")\n",
        "            continue\n",
        "\n",
        "        if guess in correct_guesses or guess in wrong_guesses:\n",
        "            print(f\"You already guessed '{guess}'. Try a different letter.\")\n",
        "            continue\n",
        "\n",
        "        if guess in word:\n",
        "            correct_guesses.add(guess)\n",
        "            print(f\"Good job! '{guess}' is in the word.\")\n",
        "        else:\n",
        "            wrong_guesses.add(guess)\n",
        "            print(f\"Sorry! '{guess}' is not in the word.\")\n",
        "\n",
        "        if all(letter in correct_guesses for letter in word):\n",
        "            print(f\"Congratulations! You guessed the word '{word}' correctly!\")\n",
        "            break\n",
        "    else:\n",
        "        print(f\"You've run out of attempts! The word was '{word}'.\")\n",
        "\n",
        "if __name__ == \"__main__\":\n",
        "    hangman()\n"
      ]
    }
  ]
}